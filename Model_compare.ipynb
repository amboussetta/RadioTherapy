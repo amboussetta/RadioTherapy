{
 "cells": [
  {
   "cell_type": "markdown",
   "id": "9030eef5",
   "metadata": {},
   "source": [
    "# Import modules"
   ]
  },
  {
   "cell_type": "code",
   "execution_count": 2,
   "id": "93e737b1",
   "metadata": {},
   "outputs": [
    {
     "name": "stderr",
     "output_type": "stream",
     "text": [
      "/Users/kobr0v/opt/anaconda3/lib/python3.9/site-packages/xgboost/compat.py:36: FutureWarning: pandas.Int64Index is deprecated and will be removed from pandas in a future version. Use pandas.Index with the appropriate dtype instead.\n",
      "  from pandas import MultiIndex, Int64Index\n"
     ]
    }
   ],
   "source": [
    "import numpy as np\n",
    "import pandas as pd\n",
    "import seaborn as sns\n",
    "import matplotlib.pyplot as plt\n",
    "from sklearn import preprocessing, svm\n",
    "from sklearn.preprocessing import StandardScaler\n",
    "from sklearn.model_selection import train_test_split\n",
    "from sklearn.linear_model import LinearRegression\n",
    "import xgboost as xg\n",
    "from sklearn.metrics import mean_squared_error as MSE\n",
    "from sklearn.metrics import make_scorer\n",
    "from sklearn.neural_network import MLPRegressor\n",
    "from sklearn.model_selection import KFold\n",
    "from sklearn.model_selection import cross_val_score\n",
    "from sklearn.pipeline import Pipeline\n",
    "from sklearn.pipeline import FeatureUnion\n",
    "from sklearn.decomposition import PCA\n",
    "from sklearn.feature_selection import SelectKBest\n",
    "from tabulate import tabulate\n",
    "import warnings"
   ]
  },
  {
   "cell_type": "code",
   "execution_count": 3,
   "id": "ca6963ea",
   "metadata": {},
   "outputs": [],
   "source": [
    "warnings.filterwarnings('ignore')\n",
    "def rmse(predict, actual):\n",
    "    score = np.sqrt(MSE(predict, actual))\n",
    "    return score\n",
    "\n",
    "RMSE = make_scorer(rmse)"
   ]
  },
  {
   "cell_type": "markdown",
   "id": "d2599d9d",
   "metadata": {},
   "source": [
    "# Read the file and prepare the dataset"
   ]
  },
  {
   "cell_type": "code",
   "execution_count": 229,
   "id": "1d0b007a",
   "metadata": {},
   "outputs": [],
   "source": [
    "file=\"large_database.xlsx\"\n",
    "database = pd.read_excel(file, usecols=[1,2,3,4,5,11, 9, 12])\n",
    "X = pd.read_excel(file, usecols=[1,2,3,4,5])\n",
    "y = pd.read_excel(file, usecols=[9,11,12])\n",
    "y1= pd.read_excel(file, usecols=[9])\n",
    "y2= pd.read_excel(file, usecols=[12])\n",
    "X_train, X_test, y_train, y_test = train_test_split(X, y, test_size=0.3, shuffle=True, random_state=20)\n",
    "y1_train=y_train.iloc[:,0]\n",
    "y2_train=y_train.iloc[:,2]\n",
    "y1_test=y_test.iloc[:,0]\n",
    "y2_test=y_test.iloc[:,2]\n"
   ]
  },
  {
   "cell_type": "markdown",
   "id": "1db135e8",
   "metadata": {},
   "source": [
    "# Descriptive statistics"
   ]
  },
  {
   "cell_type": "code",
   "execution_count": 230,
   "id": "dc620887",
   "metadata": {},
   "outputs": [
    {
     "data": {
      "text/html": [
       "<div>\n",
       "<style scoped>\n",
       "    .dataframe tbody tr th:only-of-type {\n",
       "        vertical-align: middle;\n",
       "    }\n",
       "\n",
       "    .dataframe tbody tr th {\n",
       "        vertical-align: top;\n",
       "    }\n",
       "\n",
       "    .dataframe thead th {\n",
       "        text-align: right;\n",
       "    }\n",
       "</style>\n",
       "<table border=\"1\" class=\"dataframe\">\n",
       "  <thead>\n",
       "    <tr style=\"text-align: right;\">\n",
       "      <th></th>\n",
       "      <th>Vol dig</th>\n",
       "      <th>Vol PTV46</th>\n",
       "      <th>Overlap Vol</th>\n",
       "      <th>OV/Vdig</th>\n",
       "      <th>Distance</th>\n",
       "      <th>V45</th>\n",
       "      <th>V45%</th>\n",
       "      <th>Dmoy</th>\n",
       "    </tr>\n",
       "  </thead>\n",
       "  <tbody>\n",
       "    <tr>\n",
       "      <th>count</th>\n",
       "      <td>48.000000</td>\n",
       "      <td>48.000000</td>\n",
       "      <td>48.000000</td>\n",
       "      <td>48.000000</td>\n",
       "      <td>48.000000</td>\n",
       "      <td>48.000000</td>\n",
       "      <td>48.000000</td>\n",
       "      <td>48.000000</td>\n",
       "    </tr>\n",
       "    <tr>\n",
       "      <th>mean</th>\n",
       "      <td>1373.485571</td>\n",
       "      <td>971.240832</td>\n",
       "      <td>44.469771</td>\n",
       "      <td>0.038613</td>\n",
       "      <td>8.298153</td>\n",
       "      <td>40.348828</td>\n",
       "      <td>0.042395</td>\n",
       "      <td>16.659639</td>\n",
       "    </tr>\n",
       "    <tr>\n",
       "      <th>std</th>\n",
       "      <td>612.312042</td>\n",
       "      <td>177.198329</td>\n",
       "      <td>34.831949</td>\n",
       "      <td>0.035407</td>\n",
       "      <td>1.983831</td>\n",
       "      <td>34.406977</td>\n",
       "      <td>0.035242</td>\n",
       "      <td>5.506392</td>\n",
       "    </tr>\n",
       "    <tr>\n",
       "      <th>min</th>\n",
       "      <td>293.393004</td>\n",
       "      <td>665.105557</td>\n",
       "      <td>2.672223</td>\n",
       "      <td>0.001253</td>\n",
       "      <td>2.191926</td>\n",
       "      <td>0.215625</td>\n",
       "      <td>0.000143</td>\n",
       "      <td>7.771517</td>\n",
       "    </tr>\n",
       "    <tr>\n",
       "      <th>25%</th>\n",
       "      <td>912.240196</td>\n",
       "      <td>850.297525</td>\n",
       "      <td>19.104834</td>\n",
       "      <td>0.010301</td>\n",
       "      <td>7.220885</td>\n",
       "      <td>18.377344</td>\n",
       "      <td>0.018851</td>\n",
       "      <td>12.799274</td>\n",
       "    </tr>\n",
       "    <tr>\n",
       "      <th>50%</th>\n",
       "      <td>1254.637830</td>\n",
       "      <td>944.967107</td>\n",
       "      <td>32.599803</td>\n",
       "      <td>0.028017</td>\n",
       "      <td>8.151168</td>\n",
       "      <td>28.523437</td>\n",
       "      <td>0.029917</td>\n",
       "      <td>15.544078</td>\n",
       "    </tr>\n",
       "    <tr>\n",
       "      <th>75%</th>\n",
       "      <td>1747.808000</td>\n",
       "      <td>1076.448962</td>\n",
       "      <td>62.377415</td>\n",
       "      <td>0.057959</td>\n",
       "      <td>9.749421</td>\n",
       "      <td>55.094531</td>\n",
       "      <td>0.057217</td>\n",
       "      <td>20.164501</td>\n",
       "    </tr>\n",
       "    <tr>\n",
       "      <th>max</th>\n",
       "      <td>2911.111661</td>\n",
       "      <td>1503.124779</td>\n",
       "      <td>139.933084</td>\n",
       "      <td>0.182168</td>\n",
       "      <td>12.185881</td>\n",
       "      <td>172.640625</td>\n",
       "      <td>0.158789</td>\n",
       "      <td>32.765113</td>\n",
       "    </tr>\n",
       "  </tbody>\n",
       "</table>\n",
       "</div>"
      ],
      "text/plain": [
       "           Vol dig    Vol PTV46  Overlap Vol    OV/Vdig   Distance  \\\n",
       "count    48.000000    48.000000    48.000000  48.000000  48.000000   \n",
       "mean   1373.485571   971.240832    44.469771   0.038613   8.298153   \n",
       "std     612.312042   177.198329    34.831949   0.035407   1.983831   \n",
       "min     293.393004   665.105557     2.672223   0.001253   2.191926   \n",
       "25%     912.240196   850.297525    19.104834   0.010301   7.220885   \n",
       "50%    1254.637830   944.967107    32.599803   0.028017   8.151168   \n",
       "75%    1747.808000  1076.448962    62.377415   0.057959   9.749421   \n",
       "max    2911.111661  1503.124779   139.933084   0.182168  12.185881   \n",
       "\n",
       "              V45       V45%       Dmoy  \n",
       "count   48.000000  48.000000  48.000000  \n",
       "mean    40.348828   0.042395  16.659639  \n",
       "std     34.406977   0.035242   5.506392  \n",
       "min      0.215625   0.000143   7.771517  \n",
       "25%     18.377344   0.018851  12.799274  \n",
       "50%     28.523437   0.029917  15.544078  \n",
       "75%     55.094531   0.057217  20.164501  \n",
       "max    172.640625   0.158789  32.765113  "
      ]
     },
     "execution_count": 230,
     "metadata": {},
     "output_type": "execute_result"
    }
   ],
   "source": [
    "database.describe()"
   ]
  },
  {
   "cell_type": "markdown",
   "id": "f7d3d982",
   "metadata": {},
   "source": [
    "# Correlation matrix"
   ]
  },
  {
   "cell_type": "code",
   "execution_count": 231,
   "id": "04c13710",
   "metadata": {},
   "outputs": [
    {
     "data": {
      "image/png": "[encoded data removed]",
      "text/plain": [
       "<Figure size 936x432 with 2 Axes>"
      ]
     },
     "metadata": {
      "needs_background": "light"
     },
     "output_type": "display_data"
    }
   ],
   "source": [
    "corrmat = database.corr()\n",
    "plt.figure(figsize=(13, 6))\n",
    "sns.heatmap(corrmat, vmax=1, annot=True, linewidths=.5)\n",
    "plt.xticks(rotation=30, horizontalalignment=\"right\")\n",
    "plt.show()"
   ]
  },
  {
   "cell_type": "markdown",
   "id": "46b57ae9",
   "metadata": {},
   "source": [
    "# Replication of CFJ models"
   ]
  },
  {
   "cell_type": "markdown",
   "id": "9cea3a2b",
   "metadata": {},
   "source": [
    "## Linear Regression V45 = F(Overlap Vol)"
   ]
  },
  {
   "cell_type": "code",
   "execution_count": 232,
   "id": "4482012e",
   "metadata": {},
   "outputs": [
    {
     "name": "stdout",
     "output_type": "stream",
     "text": [
      "Training coefficient of determination R2:  0.8754562517157654\n",
      "Testing coefficient of determination R2:  0.9501134180471098\n"
     ]
    },
    {
     "data": {
      "text/plain": [
       "[<matplotlib.lines.Line2D at 0x7f9842aea370>]"
      ]
     },
     "execution_count": 232,
     "metadata": {},
     "output_type": "execute_result"
    },
    {
     "data": {
      "image/png": "[encoded data removed]",
      "text/plain": [
       "<Figure size 432x288 with 1 Axes>"
      ]
     },
     "metadata": {
      "needs_background": "light"
     },
     "output_type": "display_data"
    }
   ],
   "source": [
    "regressor = LinearRegression()\n",
    "regressor.fit(X_train[\"Overlap Vol\"].array.reshape(-1,1), y1_train.array)\n",
    "y1_pred = regressor.predict(X_test[\"Overlap Vol\"].array.reshape(-1,1))\n",
    "r_squared_train = regressor.score(X_train[\"Overlap Vol\"].array.reshape(-1,1),y1_train)\n",
    "r_squared_test = regressor.score(X_test[\"Overlap Vol\"].array.reshape(-1,1),y1_test)\n",
    "print(\"Training coefficient of determination R2: \",r_squared_train)\n",
    "print(\"Testing coefficient of determination R2: \",r_squared_test)\n",
    "plt.scatter(X_train[\"Overlap Vol\"].array.reshape(-1,1), y1_train,color='g')\n",
    "plt.plot(X_test[\"Overlap Vol\"].array.reshape(-1,1), y1_pred,color='k')"
   ]
  },
  {
   "cell_type": "markdown",
   "id": "5287c83e",
   "metadata": {},
   "source": [
    "## Linear Regression V45 = F(OV/Vol)"
   ]
  },
  {
   "cell_type": "code",
   "execution_count": 233,
   "id": "b61a7cfd",
   "metadata": {},
   "outputs": [
    {
     "name": "stdout",
     "output_type": "stream",
     "text": [
      "Training coefficient of determination R2:  0.8086483932469174\n",
      "Testing coefficient of determination R2:  0.3459264875385393\n"
     ]
    },
    {
     "data": {
      "text/plain": [
       "[<matplotlib.lines.Line2D at 0x7f98122b7dc0>]"
      ]
     },
     "execution_count": 233,
     "metadata": {},
     "output_type": "execute_result"
    },
    {
     "data": {
      "image/png": "[encoded data removed]",
      "text/plain": [
       "<Figure size 432x288 with 1 Axes>"
      ]
     },
     "metadata": {
      "needs_background": "light"
     },
     "output_type": "display_data"
    }
   ],
   "source": [
    "regressor = LinearRegression()\n",
    "regressor.fit(X_train[\"OV/Vdig\"].array.reshape(-1,1), y1_train.array)\n",
    "y1_pred = regressor.predict(X_test[\"OV/Vdig\"].array.reshape(-1,1))\n",
    "r_squared_test = regressor.score(X_test[\"OV/Vdig\"].array.reshape(-1,1),y1_test)\n",
    "r_squared_train = regressor.score(X_train[\"OV/Vdig\"].array.reshape(-1,1),y1_train)\n",
    "print(\"Training coefficient of determination R2: \",r_squared_train)\n",
    "print(\"Testing coefficient of determination R2: \",r_squared_test)\n",
    "plt.scatter(X_train[\"OV/Vdig\"].array.reshape(-1,1), y1_train,color='g')\n",
    "plt.plot(X_test[\"OV/Vdig\"].array.reshape(-1,1), y1_pred,color='k')"
   ]
  },
  {
   "cell_type": "markdown",
   "id": "d3ee7248",
   "metadata": {},
   "source": [
    "## Linear Regression V45 = F(Distance)"
   ]
  },
  {
   "cell_type": "code",
   "execution_count": 234,
   "id": "bd1580f4",
   "metadata": {},
   "outputs": [
    {
     "name": "stdout",
     "output_type": "stream",
     "text": [
      "Training coefficient of determination R2:  0.6743918380270656\n",
      "Testing coefficient of determination R2:  0.3795024601681817\n"
     ]
    },
    {
     "data": {
      "text/plain": [
       "[<matplotlib.lines.Line2D at 0x7f97f808bdf0>]"
      ]
     },
     "execution_count": 234,
     "metadata": {},
     "output_type": "execute_result"
    },
    {
     "data": {
      "image/png": "[encoded data removed]",
      "text/plain": [
       "<Figure size 432x288 with 1 Axes>"
      ]
     },
     "metadata": {
      "needs_background": "light"
     },
     "output_type": "display_data"
    }
   ],
   "source": [
    "regressor = LinearRegression()\n",
    "regressor.fit(X_train[\"Distance\"].array.reshape(-1,1), y1_train.array)\n",
    "y1_pred = regressor.predict(X_test[\"Distance\"].array.reshape(-1,1))\n",
    "r_squared_test = regressor.score(X_test[\"Distance\"].array.reshape(-1,1),y1_test)\n",
    "r_squared_train = regressor.score(X_train[\"Distance\"].array.reshape(-1,1),y1_train)\n",
    "print(\"Training coefficient of determination R2: \",r_squared_train)\n",
    "print(\"Testing coefficient of determination R2: \",r_squared_test)\n",
    "plt.scatter(X_train[\"Distance\"].array.reshape(-1,1), y1_train,color='g')\n",
    "plt.plot(X_test[\"Distance\"].array.reshape(-1,1), y1_pred,color='k')"
   ]
  },
  {
   "cell_type": "markdown",
   "id": "e87a5a44",
   "metadata": {},
   "source": [
    "## Multiple Linear Regression V45 = F(Overlap Vol, Distance)"
   ]
  },
  {
   "cell_type": "code",
   "execution_count": 235,
   "id": "dd46e335",
   "metadata": {},
   "outputs": [
    {
     "name": "stdout",
     "output_type": "stream",
     "text": [
      "Training coefficient of determination R2:  0.6743918380270656\n",
      "Testing coefficient of determination R2:  0.883601176377753\n"
     ]
    }
   ],
   "source": [
    "regressor = LinearRegression()\n",
    "regressor.fit(X_train[[\"Overlap Vol\",\"Distance\"]], y1_train.array)\n",
    "y1_pred = regressor.predict(X_test[[\"Overlap Vol\",\"Distance\"]])\n",
    "r_squared_test = regressor.score(X_test[[\"Overlap Vol\",\"Distance\"]],y1_test)\n",
    "r_squared_test = regressor.score(X_train[[\"Overlap Vol\",\"Distance\"]],y1_train)\n",
    "print(\"Training coefficient of determination R2: \",r_squared_train)\n",
    "print(\"Testing coefficient of determination R2: \",r_squared_test)"
   ]
  },
  {
   "cell_type": "markdown",
   "id": "9f0bf704",
   "metadata": {},
   "source": [
    "# Creating Principal Component Regression model"
   ]
  },
  {
   "cell_type": "code",
   "execution_count": 236,
   "id": "9e221cdb",
   "metadata": {},
   "outputs": [],
   "source": [
    "# create feature union\n",
    "features = []\n",
    "features.append(('pca', PCA(n_components=3)))\n",
    "features.append(('select_best', SelectKBest(k=3)))\n",
    "feature_union = FeatureUnion(features)\n",
    "# create pipeline\n",
    "estimators = []\n",
    "estimators.append(('standardize', StandardScaler()))\n",
    "estimators.append(('feature_union', feature_union))\n",
    "estimators.append(('linear_regression', LinearRegression()))\n",
    "PCR = Pipeline(estimators)\n",
    "kfold = KFold(n_splits=3)\n",
    "PCR_results1 = cross_val_score(PCR, X, y1, cv=kfold, scoring=RMSE)\n",
    "PCR_results2 = cross_val_score(PCR, X, y2, cv=kfold, scoring=RMSE)"
   ]
  },
  {
   "cell_type": "code",
   "execution_count": 237,
   "id": "11275478",
   "metadata": {},
   "outputs": [
    {
     "name": "stdout",
     "output_type": "stream",
     "text": [
      "RMSE Y1:  9.97613459288511\n",
      "RMSE Y2:  2.673158223016091\n"
     ]
    }
   ],
   "source": [
    "PCR.fit(X,y1)\n",
    "out1 = PCR.predict(X)\n",
    "PCR.fit(X,y2)\n",
    "out2 = PCR.predict(X)\n",
    "print(\"RMSE Y1: \", rmse(out1,y1))\n",
    "print(\"RMSE Y2: \", rmse(out2,y2))\n",
    "\n",
    "pd.DataFrame(out2).to_clipboard()"
   ]
  },
  {
   "cell_type": "markdown",
   "id": "8d2809dd",
   "metadata": {},
   "source": [
    "# Select ML models to be cross validated"
   ]
  },
  {
   "cell_type": "code",
   "execution_count": null,
   "id": "81e8d8e8",
   "metadata": {},
   "outputs": [],
   "source": []
  },
  {
   "cell_type": "code",
   "execution_count": 238,
   "id": "506a36d1",
   "metadata": {},
   "outputs": [],
   "source": [
    "# prepare models\n",
    "models = []\n",
    "models.append(('LR', LinearRegression()))\n",
    "models.append(('XGB', xg.XGBRegressor()))\n",
    "models.append(('MLP', MLPRegressor()))\n"
   ]
  },
  {
   "cell_type": "markdown",
   "id": "c0b928be",
   "metadata": {},
   "source": [
    "# Model evaluation on train dataset"
   ]
  },
  {
   "cell_type": "code",
   "execution_count": 239,
   "id": "08cb6196",
   "metadata": {},
   "outputs": [
    {
     "data": {
      "image/png": "[encoded data removed]",
      "text/plain": [
       "<Figure size 432x288 with 1 Axes>"
      ]
     },
     "metadata": {
      "needs_background": "light"
     },
     "output_type": "display_data"
    },
    {
     "data": {
      "image/png": "[encoded data removed]",
      "text/plain": [
       "<Figure size 432x288 with 1 Axes>"
      ]
     },
     "metadata": {
      "needs_background": "light"
     },
     "output_type": "display_data"
    }
   ],
   "source": [
    "# evaluate each model in turn\n",
    "results1 = [PCR_results1]\n",
    "results2 = [PCR_results2]\n",
    "names = ['PCR']\n",
    "for name, model in models:\n",
    "    kfold = KFold(n_splits=3)\n",
    "    cv_results1 = cross_val_score(model, X_train, y1_train, cv=kfold, scoring=RMSE)\n",
    "    cv_results2 = cross_val_score(model, X_train, y2_train, cv=kfold, scoring=RMSE)\n",
    "    results1.append(cv_results1)\n",
    "    results2.append(cv_results2)\n",
    "    names.append(name)\n",
    "\n",
    "# boxplot algorithm comparison\n",
    "fig1 = plt.figure()\n",
    "fig1.suptitle('Algorithm Comparison for V45')\n",
    "ax = fig1.add_subplot(111)\n",
    "plt.boxplot(results1)\n",
    "ax.set_xticklabels(names)\n",
    "\n",
    "fig2 = plt.figure()\n",
    "fig2.suptitle('Algorithm Comparison for Dmoy')\n",
    "ax = fig2.add_subplot(111)\n",
    "plt.boxplot(results2)\n",
    "ax.set_xticklabels(names)\n",
    "plt.show()"
   ]
  },
  {
   "cell_type": "markdown",
   "id": "d7c34894",
   "metadata": {},
   "source": [
    "# Model Evaluation on test dataset"
   ]
  },
  {
   "cell_type": "code",
   "execution_count": 240,
   "id": "b0db66d9",
   "metadata": {},
   "outputs": [],
   "source": [
    "PCR1 = PCR.fit(X_train,y1_train)\n",
    "PCR2 = PCR.fit(X_train,y2_train)\n",
    "\n",
    "PCR1_pred = PCR1.predict(X_test)\n",
    "PCR2_pred = PCR2.predict(X_test)"
   ]
  },
  {
   "cell_type": "code",
   "execution_count": 241,
   "id": "c217de4f",
   "metadata": {},
   "outputs": [],
   "source": [
    "rmse1 = rmse(PCR1_pred,y1_test)\n",
    "rmse2 = rmse(PCR2_pred,y2_test)\n",
    "TestRes1 = [rmse1]\n",
    "TestRes2 = [rmse2]\n",
    "ML_names = ['PCR']"
   ]
  },
  {
   "cell_type": "code",
   "execution_count": 242,
   "id": "7465c35c",
   "metadata": {},
   "outputs": [],
   "source": [
    "for name, model in models:\n",
    "    m1 = model.fit(X_train, y1_train)\n",
    "    m2 = model.fit(X_train, y2_train)\n",
    "    test_result1 = m1.predict(X_test)\n",
    "    test_result2 = m2.predict(X_test)\n",
    "    TestRes1.append(rmse(test_result1,y1_test))\n",
    "    TestRes2.append(rmse(test_result2,y2_test))\n",
    "    ML_names.append(name)\n"
   ]
  },
  {
   "cell_type": "markdown",
   "id": "cb48a735",
   "metadata": {},
   "source": [
    "# Summary "
   ]
  },
  {
   "cell_type": "code",
   "execution_count": 243,
   "id": "a50ae987",
   "metadata": {},
   "outputs": [
    {
     "name": "stdout",
     "output_type": "stream",
     "text": [
      "Model comparison for the V45 output\n",
      "ML model       RMSE\n",
      "----------  -------\n",
      "PCR         35.5624\n",
      "LR          35.5624\n",
      "XGB         35.1013\n",
      "MLP         48.2692\n",
      "-----------------------------------------\n",
      "Model comparison for the Dmoy output\n",
      "ML model        RMSE\n",
      "----------  --------\n",
      "PCR          3.18283\n",
      "LR           3.18283\n",
      "XGB          3.05679\n",
      "MLP         62.5418\n"
     ]
    }
   ],
   "source": [
    "print(\"Model comparison for the V45 output\")\n",
    "\n",
    "    \n",
    "print(tabulate({\"ML model\": ML_names, \"RMSE\": TestRes1}, headers=\"keys\"))\n",
    "\n",
    "print(\"-----------------------------------------\")\n",
    "\n",
    "print(\"Model comparison for the Dmoy output\")\n",
    "    \n",
    "print(tabulate({\"ML model\": ML_names, \"RMSE\": TestRes2}, headers=\"keys\"))"
   ]
  },
  {
   "cell_type": "code",
   "execution_count": null,
   "id": "7f9b0304",
   "metadata": {},
   "outputs": [],
   "source": [
    "    "
   ]
  },
  {
   "cell_type": "code",
   "execution_count": null,
   "id": "4639fa12",
   "metadata": {},
   "outputs": [],
   "source": []
  }
 ],
 "metadata": {
  "kernelspec": {
   "display_name": "Python 3 (ipykernel)",
   "language": "python",
   "name": "python3"
  },
  "language_info": {
   "codemirror_mode": {
    "name": "ipython",
    "version": 3
   },
   "file_extension": ".py",
   "mimetype": "text/x-python",
   "name": "python",
   "nbconvert_exporter": "python",
   "pygments_lexer": "ipython3",
   "version": "3.9.12"
  }
 },
 "nbformat": 4,
 "nbformat_minor": 5
}
